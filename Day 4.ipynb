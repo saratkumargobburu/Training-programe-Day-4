{
 "cells": [
  {
   "cell_type": "code",
   "execution_count": 5,
   "id": "e6b21c7f",
   "metadata": {},
   "outputs": [
    {
     "name": "stdout",
     "output_type": "stream",
     "text": [
      "enter the number1221\n",
      "the nearest palindrome 1331\n"
     ]
    }
   ],
   "source": [
    "#Nearest palindrome\n",
    "def n_rev(n):\n",
    "    while(n>0):\n",
    "        t=str(n)\n",
    "        r=t[::-1]\n",
    "        if t==r:\n",
    "            print(\"the nearest palindrome\",r)\n",
    "            break\n",
    "        else:\n",
    "            n=n+1\n",
    "n=int(input(\"enter the number\"))\n",
    "n=n+1\n",
    "n_rev(n)"
   ]
  },
  {
   "cell_type": "code",
   "execution_count": null,
   "id": "6500a376",
   "metadata": {},
   "outputs": [],
   "source": [
    "#nearest palindrome\n",
    "import sys\n",
    "def Next_smallest_palindrome(num):\n",
    "    for i in range(num+1,sys.maxsize):\n",
    "        if str(i)==str(i)[::-1]:\n",
    "            return i\n",
    "print(Next_smallest_palindrome(num))"
   ]
  },
  {
   "cell_type": "code",
   "execution_count": 14,
   "id": "e990583d",
   "metadata": {},
   "outputs": [
    {
     "name": "stdout",
     "output_type": "stream",
     "text": [
      "101,P,102,O,234,P\n",
      "Pediatrics\n"
     ]
    }
   ],
   "source": [
    "#KIMS Hospital\n",
    "def max_visisted(p_list,d_list):\n",
    "    max_v=0\n",
    "    P=p_list.count('P')\n",
    "    O=p_list.count('O')\n",
    "    E=p_list.count('E')\n",
    "    if P>E and P>O:\n",
    "        spl=d_list['P']\n",
    "    elif E>O:\n",
    "        spl=d_list['O']\n",
    "    else:\n",
    "        spl=d_list['E']\n",
    "    return spl\n",
    "p_list=list(map(str,input().split(\",\")))\n",
    "d_list={\"P\":\"Pediatrics\",\"O\":\"Orthopedics\",\"E\":\"Ent\"}\n",
    "spe=max_visisted(p_list,d_list)\n",
    "print(spe)"
   ]
  },
  {
   "cell_type": "code",
   "execution_count": 21,
   "id": "7b4c7e27",
   "metadata": {},
   "outputs": [
    {
     "name": "stdout",
     "output_type": "stream",
     "text": [
      "enter the first stringI like Python\n",
      "enter the second stringJava is a very popular language\n",
      "eyinol\n"
     ]
    }
   ],
   "source": [
    "n1=input(\"enter the first string\")\n",
    "n2=input(\"enter the second string\")\n",
    "s1=n1.split(\" \")\n",
    "s2=n2.split(\" \")\n",
    "li=[]\n",
    "for i in s1:\n",
    "    for j in i:\n",
    "        for k in s2:\n",
    "            for m in k:\n",
    "                if m==j:\n",
    "                    li.append(j)\n",
    "l=set(li)\n",
    "for i in l:\n",
    "    print(i,end=\" \")\n",
    "            "
   ]
  },
  {
   "cell_type": "code",
   "execution_count": 26,
   "id": "3ea10656",
   "metadata": {},
   "outputs": [
    {
     "name": "stdout",
     "output_type": "stream",
     "text": [
      "1st stringI like Python\n",
      "2nd stringJava is a very popular language\n",
      "eyinol\n"
     ]
    }
   ],
   "source": [
    "#print all the common characters in it\n",
    "st1=input(\"1st string\")\n",
    "st2=input(\"2nd string\")\n",
    "s=\"\"\n",
    "for i in st1:\n",
    "    for j in st2:\n",
    "        if(i==j and i!=\" \"):\n",
    "            s=s+i\n",
    "print(*(set(s)),sep=\"\") #*args and *kwargs\n",
    "            \n"
   ]
  },
  {
   "cell_type": "markdown",
   "id": "acbd5e90",
   "metadata": {},
   "source": [
    "# class-object concept (OOPS)"
   ]
  },
  {
   "cell_type": "code",
   "execution_count": 30,
   "id": "e7e9beb6",
   "metadata": {},
   "outputs": [
    {
     "name": "stdout",
     "output_type": "stream",
     "text": [
      "10\n",
      "50\n"
     ]
    }
   ],
   "source": [
    "class Example:\n",
    "    def __init__(self,num):\n",
    "        self.num=num\n",
    "    def set_num(self,num):\n",
    "        self.num=num\n",
    "    def get_num(self):\n",
    "        return self.num\n",
    "obj=Example(10)\n",
    "print(obj.get_num())\n",
    "obj.set_num(50)\n",
    "print(obj.get_num())"
   ]
  },
  {
   "cell_type": "code",
   "execution_count": 31,
   "id": "1ee8c0fb",
   "metadata": {},
   "outputs": [
    {
     "name": "stdout",
     "output_type": "stream",
     "text": [
      "200\n"
     ]
    }
   ],
   "source": [
    "class cuc:\n",
    "    def __init__(self,id1):\n",
    "        self.id1=id1\n",
    "c1=cuc(200)\n",
    "print(c1.id1)"
   ]
  },
  {
   "cell_type": "code",
   "execution_count": 33,
   "id": "1c51dd20",
   "metadata": {},
   "outputs": [
    {
     "name": "stdout",
     "output_type": "stream",
     "text": [
      "i love to learn First programming\n",
      "your interested in  learn python is hard way\n"
     ]
    }
   ],
   "source": [
    "class Book:\n",
    "    def __init__(self):\n",
    "        self.title=None\n",
    "my_fav=Book()\n",
    "my_fav.title=\"First programming\"\n",
    "your_fav=Book()\n",
    "your_fav.title=\"learn python is hard way\"\n",
    "print(\"i love to learn\",my_fav.title)\n",
    "print(\"your interested in \",your_fav.title)"
   ]
  },
  {
   "cell_type": "code",
   "execution_count": 2,
   "id": "d585f4b8",
   "metadata": {},
   "outputs": [
    {
     "name": "stdout",
     "output_type": "stream",
     "text": [
      "<__main__.shoes object at 0x000001F524D40D00>\n",
      "1000 and campus\n"
     ]
    }
   ],
   "source": [
    "class shoes:\n",
    "    def __init__(self,price,material):\n",
    "        self.price=price\n",
    "        self.material=material\n",
    "obj=shoes(1000,\"campus\")\n",
    "print(obj)\n",
    "print(obj.price,\"and\",obj.material)\n"
   ]
  },
  {
   "cell_type": "code",
   "execution_count": null,
   "id": "0476bff6",
   "metadata": {},
   "outputs": [],
   "source": []
  }
 ],
 "metadata": {
  "kernelspec": {
   "display_name": "Python 3 (ipykernel)",
   "language": "python",
   "name": "python3"
  },
  "language_info": {
   "codemirror_mode": {
    "name": "ipython",
    "version": 3
   },
   "file_extension": ".py",
   "mimetype": "text/x-python",
   "name": "python",
   "nbconvert_exporter": "python",
   "pygments_lexer": "ipython3",
   "version": "3.9.7"
  }
 },
 "nbformat": 4,
 "nbformat_minor": 5
}
